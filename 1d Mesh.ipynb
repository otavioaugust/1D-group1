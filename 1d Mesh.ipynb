{
 "cells": [
  {
   "cell_type": "code",
   "execution_count": 1,
   "metadata": {},
   "outputs": [
    {
     "name": "stdout",
     "output_type": "stream",
     "text": [
      "mesh([0.0, 0.1, 0.2, 0.3, 0.4, 0.5, 0.6, 0.7, 0.8, 0.9, 1.0], [1 2; 2 3; 3 4; 4 5; 5 6; 6 7; 7 8; 8 9; 9 10; 10 11])\n"
     ]
    }
   ],
   "source": [
    "struct mesh\n",
    "\n",
    "\tnodes\n",
    "\n",
    "\telements\n",
    "\n",
    "end\n",
    "\n",
    "function uniform_mesh(n::Int, s::Float64 = 0.0, e::Float64 = 1.0 )\n",
    "\n",
    "\telems = zeros(Int, n,2);\n",
    "\n",
    "\tnodes = zeros(n+1);\n",
    "\n",
    "\tnodes = s*ones(n+1) + e*collect(0:1/n:1);\n",
    "\n",
    "\telems[:,1] = s*ones(n) + e*collect(1:n);\n",
    "\n",
    "\telems[:,2] = s*ones(n) + e*collect(2:n+1);\n",
    "\n",
    "\treturn mesh(nodes, elems);\n",
    "\n",
    "end\n",
    "\n",
    "x = uniform_mesh(10)\n",
    "\n",
    "println(x)\n",
    "\n"
   ]
  },
  {
   "cell_type": "code",
   "execution_count": null,
   "metadata": {},
   "outputs": [],
   "source": []
  },
  {
   "cell_type": "code",
   "execution_count": null,
   "metadata": {},
   "outputs": [],
   "source": []
  }
 ],
 "metadata": {
  "kernelspec": {
   "display_name": "Julia 1.2.0",
   "language": "julia",
   "name": "julia-1.2"
  },
  "language_info": {
   "file_extension": ".jl",
   "mimetype": "application/julia",
   "name": "julia",
   "version": "1.2.0"
  }
 },
 "nbformat": 4,
 "nbformat_minor": 2
}
